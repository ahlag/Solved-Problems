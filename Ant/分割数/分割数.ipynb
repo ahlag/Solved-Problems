{
 "cells": [
  {
   "cell_type": "code",
   "execution_count": 4,
   "metadata": {},
   "outputs": [
    {
     "name": "stdin",
     "output_type": "stream",
     "text": [
      " 4\n",
      " 3\n",
      " 10000\n"
     ]
    },
    {
     "name": "stdout",
     "output_type": "stream",
     "text": [
      "4\n"
     ]
    }
   ],
   "source": [
    "n = int(input())\n",
    "m = int(input())\n",
    "M = int(input())\n",
    "\n",
    "dp = [[0 for i in range(n + 1)] for j in range(m + 1)]\n",
    "\n",
    "dp[0][0] = 1\n",
    "for i in range(1, m + 1, 1):\n",
    "    for j in range(n + 1):\n",
    "        if j - i >= 0:\n",
    "            dp[i][j] = (dp[i - 1][j] + dp[i][j - i]) % M\n",
    "        else:\n",
    "            dp[i][j] = dp[i - 1][j]\n",
    "            \n",
    "print(dp[m][n])"
   ]
  }
 ],
 "metadata": {
  "kernelspec": {
   "display_name": "Python 3",
   "language": "python",
   "name": "python3"
  },
  "language_info": {
   "codemirror_mode": {
    "name": "ipython",
    "version": 3
   },
   "file_extension": ".py",
   "mimetype": "text/x-python",
   "name": "python",
   "nbconvert_exporter": "python",
   "pygments_lexer": "ipython3",
   "version": "3.8.10"
  }
 },
 "nbformat": 4,
 "nbformat_minor": 4
}
